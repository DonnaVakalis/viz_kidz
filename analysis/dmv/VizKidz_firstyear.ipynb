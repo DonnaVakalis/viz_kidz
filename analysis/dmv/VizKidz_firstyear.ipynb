{
 "cells": [
  {
   "cell_type": "markdown",
   "metadata": {},
   "source": [
    "# FIRST YEAR BIRTHDAY \"ANNUAL REPORT\" \n",
    "---\n",
    "\n",
    "A fun analysis of the growth and consumption and sleep patterns during the first year of life for our twins, Amos and Rilka. "
   ]
  },
  {
   "cell_type": "markdown",
   "metadata": {},
   "source": [
    "### Imports"
   ]
  },
  {
   "cell_type": "code",
   "execution_count": 68,
   "metadata": {},
   "outputs": [],
   "source": [
    "# Imports and global options\n",
    "\n",
    "import pandas as pd\n",
    "import numpy as np\n",
    "from matplotlib import pyplot as plt\n",
    "import zipfile\n",
    "import os\n",
    "import plotly.express as px \n",
    "\n",
    "# display numbers with two decimal places\n",
    "pd.options.display.float_format = '{:,.2f}'.format\n",
    "\n",
    "# import one year data from Baby Connect \n",
    "rlk_1 = pd.read_csv('../../dat/Rilka_20190613_20200111.csv') #Rilka's data\n",
    "ams_1 = pd.read_csv('../../dat/Amos_20190713_20200313.csv') #Amos's data\n",
    " \n",
    "\n",
    "# import additional measurements data from google sheets\n",
    "rlk_2 = pd.read_csv('../../dat/Measurements_Rilka.csv') # Rilka's data\n",
    "ams_2 = pd.read_csv('../../dat/Measurements_Amos.csv') # Amos's data"
   ]
  },
  {
   "cell_type": "code",
   "execution_count": 37,
   "metadata": {},
   "outputs": [
    {
     "data": {
      "text/html": [
       "<div>\n",
       "<style scoped>\n",
       "    .dataframe tbody tr th:only-of-type {\n",
       "        vertical-align: middle;\n",
       "    }\n",
       "\n",
       "    .dataframe tbody tr th {\n",
       "        vertical-align: top;\n",
       "    }\n",
       "\n",
       "    .dataframe thead th {\n",
       "        text-align: right;\n",
       "    }\n",
       "</style>\n",
       "<table border=\"1\" class=\"dataframe\">\n",
       "  <thead>\n",
       "    <tr style=\"text-align: right;\">\n",
       "      <th></th>\n",
       "      <th>Date</th>\n",
       "      <th>head_circumference</th>\n",
       "      <th>head_percentile</th>\n",
       "      <th>bicep_C</th>\n",
       "      <th>thing_c</th>\n",
       "      <th>chest_c</th>\n",
       "      <th>waist_c</th>\n",
       "      <th>arm_length_wristtoshoulder</th>\n",
       "      <th>leg_length</th>\n",
       "      <th>height</th>\n",
       "      <th>height_percentile</th>\n",
       "      <th>weight_pounds</th>\n",
       "      <th>weight_percentile</th>\n",
       "    </tr>\n",
       "  </thead>\n",
       "  <tbody>\n",
       "    <tr>\n",
       "      <th>0</th>\n",
       "      <td>7/13/2019</td>\n",
       "      <td>nan</td>\n",
       "      <td>nan</td>\n",
       "      <td>nan</td>\n",
       "      <td>nan</td>\n",
       "      <td>nan</td>\n",
       "      <td>nan</td>\n",
       "      <td>nan</td>\n",
       "      <td>nan</td>\n",
       "      <td>42.00</td>\n",
       "      <td>nan</td>\n",
       "      <td>4.66</td>\n",
       "      <td>0</td>\n",
       "    </tr>\n",
       "    <tr>\n",
       "      <th>1</th>\n",
       "      <td>7/21/2019</td>\n",
       "      <td>32.00</td>\n",
       "      <td>nan</td>\n",
       "      <td>8.00</td>\n",
       "      <td>11.00</td>\n",
       "      <td>29.00</td>\n",
       "      <td>26.50</td>\n",
       "      <td>15.00</td>\n",
       "      <td>18.00</td>\n",
       "      <td>47.00</td>\n",
       "      <td>13.00</td>\n",
       "      <td>4.73</td>\n",
       "      <td>0</td>\n",
       "    </tr>\n",
       "    <tr>\n",
       "      <th>2</th>\n",
       "      <td>8/2/2019</td>\n",
       "      <td>34.00</td>\n",
       "      <td>nan</td>\n",
       "      <td>8.25</td>\n",
       "      <td>13.00</td>\n",
       "      <td>33.00</td>\n",
       "      <td>34.00</td>\n",
       "      <td>15.00</td>\n",
       "      <td>19.00</td>\n",
       "      <td>52.00</td>\n",
       "      <td>71.00</td>\n",
       "      <td>5.70</td>\n",
       "      <td>1</td>\n",
       "    </tr>\n",
       "  </tbody>\n",
       "</table>\n",
       "</div>"
      ],
      "text/plain": [
       "        Date  head_circumference  head_percentile  bicep_C  thing_c  chest_c  \\\n",
       "0  7/13/2019                 nan              nan      nan      nan      nan   \n",
       "1  7/21/2019               32.00              nan     8.00    11.00    29.00   \n",
       "2   8/2/2019               34.00              nan     8.25    13.00    33.00   \n",
       "\n",
       "   waist_c  arm_length_wristtoshoulder  leg_length  height  height_percentile  \\\n",
       "0      nan                         nan         nan   42.00                nan   \n",
       "1    26.50                       15.00       18.00   47.00              13.00   \n",
       "2    34.00                       15.00       19.00   52.00              71.00   \n",
       "\n",
       "   weight_pounds  weight_percentile  \n",
       "0           4.66                  0  \n",
       "1           4.73                  0  \n",
       "2           5.70                  1  "
      ]
     },
     "execution_count": 37,
     "metadata": {},
     "output_type": "execute_result"
    }
   ],
   "source": [
    "rlk_2.head(3)"
   ]
  },
  {
   "cell_type": "code",
   "execution_count": 38,
   "metadata": {},
   "outputs": [
    {
     "data": {
      "text/html": [
       "<div>\n",
       "<style scoped>\n",
       "    .dataframe tbody tr th:only-of-type {\n",
       "        vertical-align: middle;\n",
       "    }\n",
       "\n",
       "    .dataframe tbody tr th {\n",
       "        vertical-align: top;\n",
       "    }\n",
       "\n",
       "    .dataframe thead th {\n",
       "        text-align: right;\n",
       "    }\n",
       "</style>\n",
       "<table border=\"1\" class=\"dataframe\">\n",
       "  <thead>\n",
       "    <tr style=\"text-align: right;\">\n",
       "      <th></th>\n",
       "      <th>Date</th>\n",
       "      <th>head_circumference</th>\n",
       "      <th>head_percentile</th>\n",
       "      <th>bicep_C</th>\n",
       "      <th>thing_c</th>\n",
       "      <th>chest_c</th>\n",
       "      <th>waist_c</th>\n",
       "      <th>arm_length_wristtoshoulder</th>\n",
       "      <th>leg_length</th>\n",
       "      <th>height</th>\n",
       "      <th>height_percentile</th>\n",
       "      <th>weight_pounds</th>\n",
       "      <th>weight_percentile</th>\n",
       "    </tr>\n",
       "  </thead>\n",
       "  <tbody>\n",
       "    <tr>\n",
       "      <th>0</th>\n",
       "      <td>7/13/2019</td>\n",
       "      <td>nan</td>\n",
       "      <td>nan</td>\n",
       "      <td>nan</td>\n",
       "      <td>nan</td>\n",
       "      <td>nan</td>\n",
       "      <td>nan</td>\n",
       "      <td>nan</td>\n",
       "      <td>nan</td>\n",
       "      <td>48.00</td>\n",
       "      <td>nan</td>\n",
       "      <td>5.87</td>\n",
       "      <td>nan</td>\n",
       "    </tr>\n",
       "    <tr>\n",
       "      <th>1</th>\n",
       "      <td>7/21/2019</td>\n",
       "      <td>34.50</td>\n",
       "      <td>nan</td>\n",
       "      <td>8.50</td>\n",
       "      <td>13.00</td>\n",
       "      <td>30.50</td>\n",
       "      <td>27.50</td>\n",
       "      <td>15.50</td>\n",
       "      <td>20.00</td>\n",
       "      <td>52.00</td>\n",
       "      <td>87.00</td>\n",
       "      <td>5.65</td>\n",
       "      <td>nan</td>\n",
       "    </tr>\n",
       "    <tr>\n",
       "      <th>2</th>\n",
       "      <td>7/26/2019</td>\n",
       "      <td>nan</td>\n",
       "      <td>nan</td>\n",
       "      <td>nan</td>\n",
       "      <td>nan</td>\n",
       "      <td>nan</td>\n",
       "      <td>nan</td>\n",
       "      <td>nan</td>\n",
       "      <td>nan</td>\n",
       "      <td>nan</td>\n",
       "      <td>nan</td>\n",
       "      <td>6.36</td>\n",
       "      <td>9.00</td>\n",
       "    </tr>\n",
       "  </tbody>\n",
       "</table>\n",
       "</div>"
      ],
      "text/plain": [
       "        Date  head_circumference  head_percentile  bicep_C  thing_c  chest_c  \\\n",
       "0  7/13/2019                 nan              nan      nan      nan      nan   \n",
       "1  7/21/2019               34.50              nan     8.50    13.00    30.50   \n",
       "2  7/26/2019                 nan              nan      nan      nan      nan   \n",
       "\n",
       "   waist_c  arm_length_wristtoshoulder  leg_length  height  height_percentile  \\\n",
       "0      nan                         nan         nan   48.00                nan   \n",
       "1    27.50                       15.50       20.00   52.00              87.00   \n",
       "2      nan                         nan         nan     nan                nan   \n",
       "\n",
       "   weight_pounds  weight_percentile  \n",
       "0           5.87                nan  \n",
       "1           5.65                nan  \n",
       "2           6.36               9.00  "
      ]
     },
     "execution_count": 38,
     "metadata": {},
     "output_type": "execute_result"
    }
   ],
   "source": [
    "ams_2.head(3)"
   ]
  },
  {
   "cell_type": "markdown",
   "metadata": {},
   "source": [
    "### Clean and Tidy\n",
    "rlk_1 and ams_1 to do list:\n",
    "- make 'Date and Time' column into datetime object\n",
    "- when time permits, add a column with our location, based on travel dates\n",
    "- make an ID column for each of them, then merge the two dataframes\n",
    "\n",
    "rlk_2 and ams_2 to do list:\n",
    "- make 'Date' column into datetime object\n",
    "- make an ID column, then merge the two dataframes"
   ]
  },
  {
   "cell_type": "code",
   "execution_count": 69,
   "metadata": {},
   "outputs": [],
   "source": [
    "# make 'Date and Time' column into datetime object\n",
    "rlk_1['Date and Time'] = pd.to_datetime(rlk_1['Date and Time'], infer_datetime_format=True)\n",
    "ams_1['Date and Time'] = pd.to_datetime(ams_1['Date and Time'], infer_datetime_format=True)\n",
    "rlk_1.rename(columns={'Date and Time':'Date'}, inplace=True) # doing this here rather than later to be able to use the subset rlk or the complete df\n",
    "ams_1.rename(columns={'Date and Time':'Date'}, inplace=True)\n",
    "\n",
    "rlk_2['Date'] = pd.to_datetime(rlk_2['Date'], infer_datetime_format=True)\n",
    "ams_2['Date'] = pd.to_datetime(ams_2['Date'], infer_datetime_format=True)"
   ]
  },
  {
   "cell_type": "code",
   "execution_count": 70,
   "metadata": {},
   "outputs": [
    {
     "name": "stdout",
     "output_type": "stream",
     "text": [
      "<class 'pandas.core.frame.DataFrame'>\n",
      "RangeIndex: 48 entries, 0 to 47\n",
      "Data columns (total 15 columns):\n",
      " #   Column                      Non-Null Count  Dtype         \n",
      "---  ------                      --------------  -----         \n",
      " 0   index                       48 non-null     int64         \n",
      " 1   Date                        48 non-null     datetime64[ns]\n",
      " 2   head_circumference          21 non-null     float64       \n",
      " 3   head_percentile             0 non-null      float64       \n",
      " 4   bicep_C                     33 non-null     float64       \n",
      " 5   thing_c                     33 non-null     float64       \n",
      " 6   chest_c                     33 non-null     float64       \n",
      " 7   waist_c                     33 non-null     float64       \n",
      " 8   arm_length_wristtoshoulder  33 non-null     float64       \n",
      " 9   leg_length                  33 non-null     float64       \n",
      " 10  height                      42 non-null     float64       \n",
      " 11  height_percentile           40 non-null     float64       \n",
      " 12  weight_pounds               46 non-null     float64       \n",
      " 13  weight_percentile           44 non-null     float64       \n",
      " 14  ID                          48 non-null     object        \n",
      "dtypes: datetime64[ns](1), float64(12), int64(1), object(1)\n",
      "memory usage: 5.8+ KB\n"
     ]
    }
   ],
   "source": [
    "# add ID columns and merge baby connect data\n",
    "rlk_1['ID'] = \"Rilka\"\n",
    "ams_1['ID'] = 'Amos'\n",
    "df_1 = rlk_1.append(ams_1).sort_values(by='Date').reset_index()\n",
    "\n",
    "\n",
    "\n",
    "# add ID columns and merge measurements data\n",
    "rlk_2['ID'] = \"Rilka\"\n",
    "ams_2['ID'] = 'Amos'\n",
    "df_2 = rlk_2.append(ams_2).sort_values(by='Date').reset_index()\n",
    "\n",
    "df_2.info()"
   ]
  },
  {
   "cell_type": "markdown",
   "metadata": {},
   "source": [
    "### Explore Number of Diapers, Caregiver hours, growth charts, \n",
    "\n",
    "Chart growth of all measured limbs and head size by month for each of them\n",
    "Percentile and ratio of height: weight percentile over time\n",
    "Pie chart of # entries by caregiver\n",
    "Count number of diapers: stack Rilka and Amos to get totals\n",
    "Tally ml of milk drank, by week \n"
   ]
  },
  {
   "cell_type": "code",
   "execution_count": 55,
   "metadata": {},
   "outputs": [
    {
     "data": {
      "image/png": "[encoded data removed]",
      "text/plain": [
       "<Figure size 432x288 with 1 Axes>"
      ]
     },
     "metadata": {
      "needs_background": "light"
     },
     "output_type": "display_data"
    }
   ],
   "source": [
    "#df_1.plot(x=\"Date\", y=[\"action\", \"comedy\"])\n",
    "# create figure and axis objects with subplots()\n",
    "fig,ax=plt.subplots()\n",
    "ax.plot(df_2.Date, df_2.height_percentile , marker=\"o\")\n",
    "#df.loc[df['column_name'] == some_value]\n",
    "ax.set_xlabel(\"date\")\n",
    "ax.set_ylabel(\"Height Percentile\")\n",
    "#ax.plot(gapminder_us.year, gapminder_us[\"gdpPercap\"], marker=\"o\")\n",
    "plt.show()"
   ]
  },
  {
   "cell_type": "code",
   "execution_count": null,
   "metadata": {},
   "outputs": [],
   "source": []
  },
  {
   "cell_type": "code",
   "execution_count": 83,
   "metadata": {},
   "outputs": [
    {
     "data": {
      "image/png": "[encoded data removed]",
      "text/plain": [
       "<Figure size 1800x360 with 2 Axes>"
      ]
     },
     "metadata": {
      "needs_background": "light"
     },
     "output_type": "display_data"
    }
   ],
   "source": [
    "\n",
    "# create figure and axis objects with subplots()\n",
    "fig,ax = plt.subplots(figsize=(25,5)) # stretch it out\n",
    "\n",
    "#f, axs = plt.subplots(2,2,figsize=(15,15))\n",
    "\n",
    "# make a plot\n",
    "ax.plot(rlk_2.Date, rlk_2.height, color=\"red\", marker=\"o\")\n",
    "# set x-axis label\n",
    "ax.set_xlabel(\"Date\",fontsize=14)\n",
    "# set y-axis label\n",
    "ax.set_ylabel(\"Height [cm]\",color=\"red\",fontsize=14)\n",
    "\n",
    "\n",
    "\n",
    "# twin object for two different y-axis on the sample plot\n",
    "ax2=ax.twinx()\n",
    "# make a plot with different y-axis using second axis object\n",
    "ax2.plot(rlk_2.Date, rlk_2.height_percentile,color=\"blue\",marker=\"o\")\n",
    "ax2.set_ylabel(\"Percentile\",color=\"blue\",fontsize=14)\n",
    "\n",
    "\n",
    " \n",
    "plt.show()\n",
    "# save the plot as a file\n",
    "fig.savefig('Rilka_growth.jpg',\n",
    "            format='jpeg',\n",
    "            dpi=100,\n",
    "            bbox_inches='tight')"
   ]
  }
 ],
 "metadata": {
  "kernelspec": {
   "display_name": "Python 3",
   "language": "python",
   "name": "python3"
  },
  "language_info": {
   "codemirror_mode": {
    "name": "ipython",
    "version": 3
   },
   "file_extension": ".py",
   "mimetype": "text/x-python",
   "name": "python",
   "nbconvert_exporter": "python",
   "pygments_lexer": "ipython3",
   "version": "3.7.6"
  }
 },
 "nbformat": 4,
 "nbformat_minor": 4
}
